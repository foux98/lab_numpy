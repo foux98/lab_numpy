{
 "cells": [
  {
   "cell_type": "markdown",
   "metadata": {},
   "source": [
    "# Introduction to NumPy\n",
    "\n",
    "\n",
    "#### 1. Import NumPy under the name np."
   ]
  },
  {
   "cell_type": "code",
   "execution_count": 13,
   "metadata": {},
   "outputs": [],
   "source": [
    "import numpy as np"
   ]
  },
  {
   "cell_type": "markdown",
   "metadata": {},
   "source": [
    "#### 2. Print your NumPy version."
   ]
  },
  {
   "cell_type": "code",
   "execution_count": 14,
   "metadata": {},
   "outputs": [
    {
     "data": {
      "text/plain": [
       "'1.24.3'"
      ]
     },
     "execution_count": 14,
     "metadata": {},
     "output_type": "execute_result"
    }
   ],
   "source": [
    "np.__version__"
   ]
  },
  {
   "cell_type": "markdown",
   "metadata": {},
   "source": [
    "#### 3. Generate a 2x3x5 3-dimensional array with random values. Assign the array to variable *a*.\n",
    "**Challenge**: there are at least three easy ways that use numpy to generate random arrays. How many ways can you find?"
   ]
  },
  {
   "cell_type": "code",
   "execution_count": 30,
   "metadata": {},
   "outputs": [],
   "source": [
    "a = np.empty((2, 3, 5))"
   ]
  },
  {
   "cell_type": "code",
   "execution_count": 31,
   "metadata": {},
   "outputs": [],
   "source": [
    "a = np.random.random((2, 3, 5))\n"
   ]
  },
  {
   "cell_type": "code",
   "execution_count": 32,
   "metadata": {},
   "outputs": [],
   "source": [
    "a = np.random.rand(2, 3, 5)"
   ]
  },
  {
   "cell_type": "code",
   "execution_count": 33,
   "metadata": {},
   "outputs": [],
   "source": [
    "a = np.random.random_sample((2, 3, 5))"
   ]
  },
  {
   "cell_type": "markdown",
   "metadata": {},
   "source": [
    "#### 4. Print *a*.\n"
   ]
  },
  {
   "cell_type": "code",
   "execution_count": 41,
   "metadata": {},
   "outputs": [
    {
     "data": {
      "text/plain": [
       "array([[[0.87166264, 0.83911622, 0.79044729, 0.47329412, 0.67061245],\n",
       "        [0.76233594, 0.46289658, 0.08054049, 0.19747995, 0.82508564],\n",
       "        [0.01687333, 0.95110209, 0.15393184, 0.35905835, 0.93890966]],\n",
       "\n",
       "       [[0.86524148, 0.3255602 , 0.73709317, 0.45112583, 0.78459549],\n",
       "        [0.65553819, 0.54225705, 0.31440326, 0.40598145, 0.27781631],\n",
       "        [0.03955705, 0.19293783, 0.57066319, 0.16896064, 0.32721126]]])"
      ]
     },
     "execution_count": 41,
     "metadata": {},
     "output_type": "execute_result"
    }
   ],
   "source": [
    "a = np.random.random_sample((2, 3, 5))\n",
    "a"
   ]
  },
  {
   "cell_type": "markdown",
   "metadata": {},
   "source": [
    "#### 5. Create a 5x2x3 3-dimensional array with all values equaling 1. Assign the array to variable *b*."
   ]
  },
  {
   "cell_type": "code",
   "execution_count": 23,
   "metadata": {},
   "outputs": [],
   "source": [
    "dim = [5, 2, 3]  # 5 capas, 2 filas, 3 columnas\n",
    "\n",
    "b = np.ones(dim)\n",
    "\n"
   ]
  },
  {
   "cell_type": "markdown",
   "metadata": {},
   "source": [
    "#### 6. Print *b*.\n"
   ]
  },
  {
   "cell_type": "code",
   "execution_count": 22,
   "metadata": {},
   "outputs": [
    {
     "data": {
      "text/plain": [
       "array([[[1., 1., 1.],\n",
       "        [1., 1., 1.]],\n",
       "\n",
       "       [[1., 1., 1.],\n",
       "        [1., 1., 1.]],\n",
       "\n",
       "       [[1., 1., 1.],\n",
       "        [1., 1., 1.]],\n",
       "\n",
       "       [[1., 1., 1.],\n",
       "        [1., 1., 1.]],\n",
       "\n",
       "       [[1., 1., 1.],\n",
       "        [1., 1., 1.]]])"
      ]
     },
     "execution_count": 22,
     "metadata": {},
     "output_type": "execute_result"
    }
   ],
   "source": [
    "b"
   ]
  },
  {
   "cell_type": "markdown",
   "metadata": {},
   "source": [
    "#### 7. Do *a* and *b* have the same size? How do you prove that in Python code?"
   ]
  },
  {
   "cell_type": "code",
   "execution_count": 34,
   "metadata": {},
   "outputs": [
    {
     "data": {
      "text/plain": [
       "True"
      ]
     },
     "execution_count": 34,
     "metadata": {},
     "output_type": "execute_result"
    }
   ],
   "source": [
    "a.size == b.size"
   ]
  },
  {
   "cell_type": "code",
   "execution_count": 35,
   "metadata": {},
   "outputs": [
    {
     "data": {
      "text/plain": [
       "30"
      ]
     },
     "execution_count": 35,
     "metadata": {},
     "output_type": "execute_result"
    }
   ],
   "source": [
    "a.size"
   ]
  },
  {
   "cell_type": "code",
   "execution_count": 36,
   "metadata": {},
   "outputs": [
    {
     "data": {
      "text/plain": [
       "30"
      ]
     },
     "execution_count": 36,
     "metadata": {},
     "output_type": "execute_result"
    }
   ],
   "source": [
    "b.size"
   ]
  },
  {
   "cell_type": "markdown",
   "metadata": {},
   "source": [
    "#### 8. Are you able to add *a* and *b*? Why or why not?\n"
   ]
  },
  {
   "cell_type": "code",
   "execution_count": 42,
   "metadata": {},
   "outputs": [
    {
     "ename": "ValueError",
     "evalue": "operands could not be broadcast together with shapes (2,3,5) (5,2,3) ",
     "output_type": "error",
     "traceback": [
      "\u001b[1;31m---------------------------------------------------------------------------\u001b[0m",
      "\u001b[1;31mValueError\u001b[0m                                Traceback (most recent call last)",
      "Cell \u001b[1;32mIn[42], line 1\u001b[0m\n\u001b[1;32m----> 1\u001b[0m np\u001b[38;5;241m.\u001b[39madd(a, b)\n",
      "\u001b[1;31mValueError\u001b[0m: operands could not be broadcast together with shapes (2,3,5) (5,2,3) "
     ]
    }
   ],
   "source": [
    "np.add(a, b)"
   ]
  },
  {
   "cell_type": "code",
   "execution_count": 43,
   "metadata": {},
   "outputs": [
    {
     "ename": "ValueError",
     "evalue": "operands could not be broadcast together with shapes (2,3,5) (5,2,3) ",
     "output_type": "error",
     "traceback": [
      "\u001b[1;31m---------------------------------------------------------------------------\u001b[0m",
      "\u001b[1;31mValueError\u001b[0m                                Traceback (most recent call last)",
      "Cell \u001b[1;32mIn[43], line 1\u001b[0m\n\u001b[1;32m----> 1\u001b[0m a \u001b[38;5;241m+\u001b[39m b\n",
      "\u001b[1;31mValueError\u001b[0m: operands could not be broadcast together with shapes (2,3,5) (5,2,3) "
     ]
    }
   ],
   "source": [
    "a + b"
   ]
  },
  {
   "cell_type": "code",
   "execution_count": null,
   "metadata": {},
   "outputs": [],
   "source": [
    "No se puede porque no tienen las mismas dimensiones y de tamaño.\n",
    "No coinciden en filas ni en columnas"
   ]
  },
  {
   "cell_type": "markdown",
   "metadata": {},
   "source": [
    "#### 9. Transpose *b* so that it has the same structure of *a* (i.e. become a 2x3x5 array). Assign the transposed array to variable *c*."
   ]
  },
  {
   "cell_type": "code",
   "execution_count": 44,
   "metadata": {},
   "outputs": [
    {
     "data": {
      "text/plain": [
       "(3, 2, 5)"
      ]
     },
     "execution_count": 44,
     "metadata": {},
     "output_type": "execute_result"
    }
   ],
   "source": [
    "#shape de un array NumPy devuelve una tupla que representa la forma del array, es decir, las dimensiones del array y el tamaño de cada dimensión\n",
    "b.T.shape"
   ]
  },
  {
   "cell_type": "code",
   "execution_count": 45,
   "metadata": {},
   "outputs": [
    {
     "data": {
      "text/plain": [
       "(5, 2, 3)"
      ]
     },
     "execution_count": 45,
     "metadata": {},
     "output_type": "execute_result"
    }
   ],
   "source": [
    "\n",
    "b.transpose(0, 1, 2).shape"
   ]
  },
  {
   "cell_type": "code",
   "execution_count": 47,
   "metadata": {},
   "outputs": [
    {
     "data": {
      "text/plain": [
       "(2, 3, 5)"
      ]
     },
     "execution_count": 47,
     "metadata": {},
     "output_type": "execute_result"
    }
   ],
   "source": [
    "b.transpose(1,2,0).shape"
   ]
  },
  {
   "cell_type": "code",
   "execution_count": 48,
   "metadata": {},
   "outputs": [
    {
     "data": {
      "text/plain": [
       "array([[[1.87166264, 1.83911622, 1.79044729, 1.47329412, 1.67061245],\n",
       "        [1.76233594, 1.46289658, 1.08054049, 1.19747995, 1.82508564],\n",
       "        [1.01687333, 1.95110209, 1.15393184, 1.35905835, 1.93890966]],\n",
       "\n",
       "       [[1.86524148, 1.3255602 , 1.73709317, 1.45112583, 1.78459549],\n",
       "        [1.65553819, 1.54225705, 1.31440326, 1.40598145, 1.27781631],\n",
       "        [1.03955705, 1.19293783, 1.57066319, 1.16896064, 1.32721126]]])"
      ]
     },
     "execution_count": 48,
     "metadata": {},
     "output_type": "execute_result"
    }
   ],
   "source": [
    "a + b.transpose(1, 2, 0)"
   ]
  },
  {
   "cell_type": "markdown",
   "metadata": {},
   "source": [
    "#### 10. Try to add *a* and *c*. Now it should work. Assign the sum to variable *d*. But why does it work now?"
   ]
  },
  {
   "cell_type": "code",
   "execution_count": 49,
   "metadata": {},
   "outputs": [],
   "source": [
    "#la c es la matriz transpuesta\n",
    "c = b.transpose(1, 2, 0)"
   ]
  },
  {
   "cell_type": "code",
   "execution_count": 50,
   "metadata": {},
   "outputs": [
    {
     "data": {
      "text/plain": [
       "array([[[1.87166264, 1.83911622, 1.79044729, 1.47329412, 1.67061245],\n",
       "        [1.76233594, 1.46289658, 1.08054049, 1.19747995, 1.82508564],\n",
       "        [1.01687333, 1.95110209, 1.15393184, 1.35905835, 1.93890966]],\n",
       "\n",
       "       [[1.86524148, 1.3255602 , 1.73709317, 1.45112583, 1.78459549],\n",
       "        [1.65553819, 1.54225705, 1.31440326, 1.40598145, 1.27781631],\n",
       "        [1.03955705, 1.19293783, 1.57066319, 1.16896064, 1.32721126]]])"
      ]
     },
     "execution_count": 50,
     "metadata": {},
     "output_type": "execute_result"
    }
   ],
   "source": [
    "# d es la suma de ambas\n",
    "\n",
    "d = np.add(a, c)\n",
    "\n",
    "d"
   ]
  },
  {
   "cell_type": "code",
   "execution_count": null,
   "metadata": {},
   "outputs": [],
   "source": [
    "#Funciona porque tienen el mismo tamaño y dimensión, después de hacer la transpuesta."
   ]
  },
  {
   "cell_type": "markdown",
   "metadata": {},
   "source": [
    "#### 11. Print *a* and *d*. Notice the difference and relation of the two array in terms of the values? Explain."
   ]
  },
  {
   "cell_type": "code",
   "execution_count": 51,
   "metadata": {},
   "outputs": [
    {
     "data": {
      "text/plain": [
       "array([[[0.87166264, 0.83911622, 0.79044729, 0.47329412, 0.67061245],\n",
       "        [0.76233594, 0.46289658, 0.08054049, 0.19747995, 0.82508564],\n",
       "        [0.01687333, 0.95110209, 0.15393184, 0.35905835, 0.93890966]],\n",
       "\n",
       "       [[0.86524148, 0.3255602 , 0.73709317, 0.45112583, 0.78459549],\n",
       "        [0.65553819, 0.54225705, 0.31440326, 0.40598145, 0.27781631],\n",
       "        [0.03955705, 0.19293783, 0.57066319, 0.16896064, 0.32721126]]])"
      ]
     },
     "execution_count": 51,
     "metadata": {},
     "output_type": "execute_result"
    }
   ],
   "source": [
    "a"
   ]
  },
  {
   "cell_type": "code",
   "execution_count": 52,
   "metadata": {},
   "outputs": [
    {
     "data": {
      "text/plain": [
       "array([[[1.87166264, 1.83911622, 1.79044729, 1.47329412, 1.67061245],\n",
       "        [1.76233594, 1.46289658, 1.08054049, 1.19747995, 1.82508564],\n",
       "        [1.01687333, 1.95110209, 1.15393184, 1.35905835, 1.93890966]],\n",
       "\n",
       "       [[1.86524148, 1.3255602 , 1.73709317, 1.45112583, 1.78459549],\n",
       "        [1.65553819, 1.54225705, 1.31440326, 1.40598145, 1.27781631],\n",
       "        [1.03955705, 1.19293783, 1.57066319, 1.16896064, 1.32721126]]])"
      ]
     },
     "execution_count": 52,
     "metadata": {},
     "output_type": "execute_result"
    }
   ],
   "source": [
    "d"
   ]
  },
  {
   "cell_type": "code",
   "execution_count": null,
   "metadata": {},
   "outputs": [],
   "source": [
    "#La diferencia es que la matriz d ha incrementado en 1, devido a la suma de la matriz a con la b, convirtiendose finalmente en d"
   ]
  },
  {
   "cell_type": "markdown",
   "metadata": {},
   "source": [
    "#### 12. Multiply *a* and *c*. Assign the result to *e*."
   ]
  },
  {
   "cell_type": "code",
   "execution_count": 53,
   "metadata": {},
   "outputs": [
    {
     "data": {
      "text/plain": [
       "array([[[0.87166264, 0.83911622, 0.79044729, 0.47329412, 0.67061245],\n",
       "        [0.76233594, 0.46289658, 0.08054049, 0.19747995, 0.82508564],\n",
       "        [0.01687333, 0.95110209, 0.15393184, 0.35905835, 0.93890966]],\n",
       "\n",
       "       [[0.86524148, 0.3255602 , 0.73709317, 0.45112583, 0.78459549],\n",
       "        [0.65553819, 0.54225705, 0.31440326, 0.40598145, 0.27781631],\n",
       "        [0.03955705, 0.19293783, 0.57066319, 0.16896064, 0.32721126]]])"
      ]
     },
     "execution_count": 53,
     "metadata": {},
     "output_type": "execute_result"
    }
   ],
   "source": [
    "np.multiply(a, c)"
   ]
  },
  {
   "cell_type": "code",
   "execution_count": 54,
   "metadata": {},
   "outputs": [
    {
     "data": {
      "text/plain": [
       "array([[[0.87166264, 0.83911622, 0.79044729, 0.47329412, 0.67061245],\n",
       "        [0.76233594, 0.46289658, 0.08054049, 0.19747995, 0.82508564],\n",
       "        [0.01687333, 0.95110209, 0.15393184, 0.35905835, 0.93890966]],\n",
       "\n",
       "       [[0.86524148, 0.3255602 , 0.73709317, 0.45112583, 0.78459549],\n",
       "        [0.65553819, 0.54225705, 0.31440326, 0.40598145, 0.27781631],\n",
       "        [0.03955705, 0.19293783, 0.57066319, 0.16896064, 0.32721126]]])"
      ]
     },
     "execution_count": 54,
     "metadata": {},
     "output_type": "execute_result"
    }
   ],
   "source": [
    "#o también\n",
    "\n",
    "a * c"
   ]
  },
  {
   "cell_type": "code",
   "execution_count": 58,
   "metadata": {},
   "outputs": [
    {
     "data": {
      "text/plain": [
       "array([[[0.87166264, 0.83911622, 0.79044729, 0.47329412, 0.67061245],\n",
       "        [0.76233594, 0.46289658, 0.08054049, 0.19747995, 0.82508564],\n",
       "        [0.01687333, 0.95110209, 0.15393184, 0.35905835, 0.93890966]],\n",
       "\n",
       "       [[0.86524148, 0.3255602 , 0.73709317, 0.45112583, 0.78459549],\n",
       "        [0.65553819, 0.54225705, 0.31440326, 0.40598145, 0.27781631],\n",
       "        [0.03955705, 0.19293783, 0.57066319, 0.16896064, 0.32721126]]])"
      ]
     },
     "execution_count": 58,
     "metadata": {},
     "output_type": "execute_result"
    }
   ],
   "source": [
    "e = a * c\n",
    "\n",
    "e"
   ]
  },
  {
   "cell_type": "markdown",
   "metadata": {},
   "source": [
    "#### 13. Does *e* equal to *a*? Why or why not?\n"
   ]
  },
  {
   "cell_type": "code",
   "execution_count": 59,
   "metadata": {},
   "outputs": [
    {
     "data": {
      "text/plain": [
       "array([[[ True,  True,  True,  True,  True],\n",
       "        [ True,  True,  True,  True,  True],\n",
       "        [ True,  True,  True,  True,  True]],\n",
       "\n",
       "       [[ True,  True,  True,  True,  True],\n",
       "        [ True,  True,  True,  True,  True],\n",
       "        [ True,  True,  True,  True,  True]]])"
      ]
     },
     "execution_count": 59,
     "metadata": {},
     "output_type": "execute_result"
    }
   ],
   "source": [
    "e == a"
   ]
  },
  {
   "cell_type": "code",
   "execution_count": 60,
   "metadata": {},
   "outputs": [
    {
     "data": {
      "text/plain": [
       "False"
      ]
     },
     "execution_count": 60,
     "metadata": {},
     "output_type": "execute_result"
    }
   ],
   "source": [
    "a is e"
   ]
  },
  {
   "cell_type": "code",
   "execution_count": 61,
   "metadata": {},
   "outputs": [
    {
     "data": {
      "text/plain": [
       "2575492494992"
      ]
     },
     "execution_count": 61,
     "metadata": {},
     "output_type": "execute_result"
    }
   ],
   "source": [
    "id(a)\n"
   ]
  },
  {
   "cell_type": "code",
   "execution_count": 62,
   "metadata": {},
   "outputs": [
    {
     "data": {
      "text/plain": [
       "2575507428560"
      ]
     },
     "execution_count": 62,
     "metadata": {},
     "output_type": "execute_result"
    }
   ],
   "source": [
    "id(e)"
   ]
  },
  {
   "cell_type": "markdown",
   "metadata": {},
   "source": [
    "#### 14. Identify the max, min, and mean values in *d*. Assign those values to variables *d_max*, *d_min* and *d_mean*."
   ]
  },
  {
   "cell_type": "code",
   "execution_count": 55,
   "metadata": {},
   "outputs": [
    {
     "data": {
      "text/plain": [
       "1.9511020879973544"
      ]
     },
     "execution_count": 55,
     "metadata": {},
     "output_type": "execute_result"
    }
   ],
   "source": [
    "d_max = d.max()\n",
    "\n",
    "d_max"
   ]
  },
  {
   "cell_type": "code",
   "execution_count": 56,
   "metadata": {},
   "outputs": [
    {
     "data": {
      "text/plain": [
       "1.5017429653567342"
      ]
     },
     "execution_count": 56,
     "metadata": {},
     "output_type": "execute_result"
    }
   ],
   "source": [
    "d_mean = d.mean()\n",
    "\n",
    "d_mean"
   ]
  },
  {
   "cell_type": "code",
   "execution_count": 57,
   "metadata": {},
   "outputs": [
    {
     "data": {
      "text/plain": [
       "1.0168733264375318"
      ]
     },
     "execution_count": 57,
     "metadata": {},
     "output_type": "execute_result"
    }
   ],
   "source": [
    "d_min = d.min()\n",
    "\n",
    "d_min"
   ]
  },
  {
   "cell_type": "markdown",
   "metadata": {},
   "source": [
    "#### 15. Now we want to label the values in *d*. First create an empty array *f* with the same shape (i.e. 2x3x5) as *d* using `np.empty`.\n"
   ]
  },
  {
   "cell_type": "code",
   "execution_count": 63,
   "metadata": {},
   "outputs": [
    {
     "data": {
      "text/plain": [
       "array([[[0.87166264, 0.83911622, 0.79044729, 0.47329412, 0.67061245],\n",
       "        [0.76233594, 0.46289658, 0.08054049, 0.19747995, 0.82508564],\n",
       "        [0.01687333, 0.95110209, 0.15393184, 0.35905835, 0.93890966]],\n",
       "\n",
       "       [[0.86524148, 0.3255602 , 0.73709317, 0.45112583, 0.78459549],\n",
       "        [0.65553819, 0.54225705, 0.31440326, 0.40598145, 0.27781631],\n",
       "        [0.03955705, 0.19293783, 0.57066319, 0.16896064, 0.32721126]]])"
      ]
     },
     "execution_count": 63,
     "metadata": {},
     "output_type": "execute_result"
    }
   ],
   "source": [
    "f = np.empty((2, 3, 5))  \n",
    "\n",
    "f"
   ]
  },
  {
   "cell_type": "markdown",
   "metadata": {},
   "source": [
    "#### 16. Populate the values in *f*. \n",
    "\n",
    "For each value in *d*, if it's larger than *d_min* but smaller than *d_mean*, assign 25 to the corresponding value in *f*. If a value in *d* is larger than *d_mean* but smaller than *d_max*, assign 75 to the corresponding value in *f*. If a value equals to *d_mean*, assign 50 to the corresponding value in *f*. Assign 0 to the corresponding value(s) in *f* for *d_min* in *d*. Assign 100 to the corresponding value(s) in *f* for *d_max* in *d*. In the end, f should have only the following values: 0, 25, 50, 75, and 100.\n",
    "\n",
    "**Note**: you don't have to use Numpy in this question."
   ]
  },
  {
   "cell_type": "code",
   "execution_count": 64,
   "metadata": {},
   "outputs": [],
   "source": [
    "for capa in range(f.shape[0]):   # 2 capas\n",
    "    \n",
    "    for fila in range(f.shape[1]):   # 3 filas\n",
    "        \n",
    "        for col in range(f.shape[2]):  # 5 columnas\n",
    "            \n",
    "            \n",
    "            if d_min == d[capa][fila][col]: # si es el minimo ponme cero en f\n",
    "                \n",
    "                f[capa][fila][col] = 0\n",
    "                \n",
    "            \n",
    "            elif d_min < d[capa][fila][col] < d_mean: # si esta entre el minimo y la media ponme 25\n",
    "                \n",
    "                f[capa][fila][col] = 25\n",
    "                \n",
    "                \n",
    "            elif d_mean == d[capa][fila][col]: # si es la media ponme 50 en f\n",
    "                \n",
    "                f[capa][fila][col] = 50\n",
    "                \n",
    "                \n",
    "            elif d_mean < d[capa][fila][col] < d_max: # si esta entre la media y el maximo ponme 75\n",
    "                \n",
    "                f[capa][fila][col] = 75\n",
    "                \n",
    "                \n",
    "            elif d_max == d[capa][fila][col]: # si es el maximo ponme 100 en f\n",
    "                \n",
    "                f[capa][fila][col] = 100"
   ]
  },
  {
   "cell_type": "markdown",
   "metadata": {},
   "source": [
    "#### 17. Print *d* and *f*. Do you have your expected *f*?\n",
    "For instance, if your *d* is:\n",
    "```python\n",
    "[[[1.85836099, 1.67064465, 1.62576044, 1.40243961, 1.88454931],\n",
    "[1.75354326, 1.69403643, 1.36729252, 1.61415071, 1.12104981],\n",
    "[1.72201435, 1.1862918 , 1.87078449, 1.7726778 , 1.88180042]],\n",
    "[[1.44747908, 1.31673383, 1.02000951, 1.52218947, 1.97066381],\n",
    "[1.79129243, 1.74983003, 1.96028037, 1.85166831, 1.65450881],\n",
    "[1.18068344, 1.9587381 , 1.00656599, 1.93402165, 1.73514584]]]\n",
    "```\n",
    "Your *f* should be:\n",
    "```python\n",
    "[[[ 75.,  75.,  75.,  25.,  75.],\n",
    "[ 75.,  75.,  25.,  25.,  25.],\n",
    "[ 75.,  25.,  75.,  75.,  75.]],\n",
    "[[ 25.,  25.,  25.,  25., 100.],\n",
    "[ 75.,  75.,  75.,  75.,  75.],\n",
    "[ 25.,  75.,   0.,  75.,  75.]]]\n",
    "```"
   ]
  },
  {
   "cell_type": "code",
   "execution_count": 65,
   "metadata": {},
   "outputs": [
    {
     "data": {
      "text/plain": [
       "array([[[ 75.,  75.,  75.,  25.,  75.],\n",
       "        [ 75.,  25.,  25.,  25.,  75.],\n",
       "        [  0., 100.,  25.,  25.,  75.]],\n",
       "\n",
       "       [[ 75.,  25.,  75.,  25.,  75.],\n",
       "        [ 75.,  75.,  25.,  25.,  25.],\n",
       "        [ 25.,  25.,  75.,  25.,  25.]]])"
      ]
     },
     "execution_count": 65,
     "metadata": {},
     "output_type": "execute_result"
    }
   ],
   "source": [
    "f"
   ]
  },
  {
   "cell_type": "markdown",
   "metadata": {},
   "source": [
    "#### 18. Bonus question: instead of using numbers (i.e. 0, 25, 50, 75, and 100), use string values  (\"A\", \"B\", \"C\", \"D\", and \"E\") to label the array elements. For the example above, the expected result is:\n",
    "\n",
    "```python\n",
    "[[[ 'D',  'D',  'D',  'B',  'D'],\n",
    "[ 'D',  'D',  'B',  'B',  'B'],\n",
    "[ 'D',  'B',  'D',  'D',  'D']],\n",
    "[[ 'B',  'B',  'B',  'B',  'E'],\n",
    "[ 'D',  'D',  'D',  'D',  'D'],\n",
    "[ 'B',  'D',   'A',  'D', 'D']]]\n",
    "```\n",
    "**Note**: you don't have to use Numpy in this question."
   ]
  },
  {
   "cell_type": "code",
   "execution_count": 66,
   "metadata": {},
   "outputs": [],
   "source": [
    "f =  f.astype('str')   # a formato string\n",
    "\n",
    "\n",
    "for capa in range(f.shape[0]):   # 2 capas\n",
    "    \n",
    "    for fila in range(f.shape[1]):   # 3 filas\n",
    "        \n",
    "        for col in range(f.shape[2]):  # 5 columnas\n",
    "            \n",
    "            \n",
    "            if d_min == d[capa][fila][col]: # si es el minimo ponme A en f\n",
    "                \n",
    "                f[capa][fila][col] = 'A'\n",
    "                \n",
    "            \n",
    "            elif d_min < d[capa][fila][col] < d_mean: # si esta entre el minimo y la media ponme B\n",
    "                \n",
    "                f[capa][fila][col] = 'B'\n",
    "                \n",
    "                \n",
    "            elif d_mean == d[capa][fila][col]: # si es la media ponme C en f\n",
    "                \n",
    "                f[capa][fila][col] = 'C'\n",
    "                \n",
    "                \n",
    "            elif d_mean < d[capa][fila][col] < d_max: # si esta entre la media y el maximo ponme D\n",
    "                \n",
    "                f[capa][fila][col] = 'D'\n",
    "                \n",
    "                \n",
    "            elif d_max == d[capa][fila][col]: # si es el maximo ponme E en f\n",
    "                \n",
    "                f[capa][fila][col] = 'E'\n",
    "        "
   ]
  },
  {
   "cell_type": "code",
   "execution_count": 67,
   "metadata": {},
   "outputs": [
    {
     "data": {
      "text/plain": [
       "array([[['D', 'D', 'D', 'B', 'D'],\n",
       "        ['D', 'B', 'B', 'B', 'D'],\n",
       "        ['A', 'E', 'B', 'B', 'D']],\n",
       "\n",
       "       [['D', 'B', 'D', 'B', 'D'],\n",
       "        ['D', 'D', 'B', 'B', 'B'],\n",
       "        ['B', 'B', 'D', 'B', 'B']]], dtype='<U32')"
      ]
     },
     "execution_count": 67,
     "metadata": {},
     "output_type": "execute_result"
    }
   ],
   "source": [
    "f"
   ]
  }
 ],
 "metadata": {
  "kernelspec": {
   "display_name": "Python 3 (ipykernel)",
   "language": "python",
   "name": "python3"
  },
  "language_info": {
   "codemirror_mode": {
    "name": "ipython",
    "version": 3
   },
   "file_extension": ".py",
   "mimetype": "text/x-python",
   "name": "python",
   "nbconvert_exporter": "python",
   "pygments_lexer": "ipython3",
   "version": "3.11.5"
  }
 },
 "nbformat": 4,
 "nbformat_minor": 2
}
